{
 "cells": [
  {
   "cell_type": "markdown",
   "metadata": {},
   "source": [
    "# Automatyczne Uczenie Maszynowe - Projekt 1\n",
    "\n",
    "## Wiktoria Boguszewska i Mateusz Zacharecki"
   ]
  },
  {
   "cell_type": "code",
   "execution_count": 1,
   "metadata": {},
   "outputs": [
    {
     "name": "stderr",
     "output_type": "stream",
     "text": [
      "C:\\Users\\XXX\\anaconda3\\lib\\site-packages\\pandas\\core\\computation\\expressions.py:21: UserWarning: Pandas requires version '2.8.4' or newer of 'numexpr' (version '2.8.3' currently installed).\n",
      "  from pandas.core.computation.check import NUMEXPR_INSTALLED\n",
      "C:\\Users\\XXX\\anaconda3\\lib\\site-packages\\pandas\\core\\arrays\\masked.py:60: UserWarning: Pandas requires version '1.3.6' or newer of 'bottleneck' (version '1.3.5' currently installed).\n",
      "  from pandas.core import (\n"
     ]
    }
   ],
   "source": [
    "import pandas as pd\n",
    "import numpy as np\n",
    "import matplotlib.pyplot as plt\n",
    "import seaborn as sns\n",
    "from scipy.stats import mannwhitneyu\n",
    "\n",
    "import warnings\n",
    "warnings.filterwarnings('ignore')"
   ]
  },
  {
   "cell_type": "markdown",
   "metadata": {},
   "source": [
    "### Wczytanie plików csv"
   ]
  },
  {
   "cell_type": "code",
   "execution_count": 2,
   "metadata": {},
   "outputs": [],
   "source": [
    "log_random_cancer = pd.read_csv(\"log_random_cancer.csv\")\n",
    "log_random_credit = pd.read_csv(\"log_random_credit.csv\")\n",
    "log_random_blood = pd.read_csv(\"log_random_blood.csv\")\n",
    "log_random_bank = pd.read_csv(\"log_random_bank.csv\")\n",
    "\n",
    "knn_random_cancer = pd.read_csv(\"knn_random_cancer.csv\")\n",
    "knn_random_credit = pd.read_csv(\"knn_random_credit.csv\")\n",
    "knn_random_blood = pd.read_csv(\"knn_random_blood.csv\")\n",
    "knn_random_bank = pd.read_csv(\"knn_random_bank.csv\")\n",
    "\n",
    "xgb_random_cancer = pd.read_csv(\"xgb_random_cancer.csv\")\n",
    "xgb_random_credit = pd.read_csv(\"xgb_random_credit.csv\")\n",
    "xgb_random_blood = pd.read_csv(\"xgb_random_blood.csv\")\n",
    "xgb_random_bank = pd.read_csv(\"xgb_random_bank.csv\")\n",
    "\n",
    "log_bayes_cancer = pd.read_csv(\"log_bayes_cancer.csv\")\n",
    "log_bayes_credit = pd.read_csv(\"log_bayes_credit.csv\")\n",
    "log_bayes_blood = pd.read_csv(\"log_bayes_blood.csv\")\n",
    "log_bayes_bank = pd.read_csv(\"log_bayes_bank.csv\")\n",
    "\n",
    "knn_bayes_cancer = pd.read_csv(\"knn_bayes_cancer.csv\")\n",
    "knn_bayes_credit = pd.read_csv(\"knn_bayes_credit.csv\")\n",
    "knn_bayes_blood = pd.read_csv(\"knn_bayes_blood.csv\")\n",
    "knn_bayes_bank = pd.read_csv(\"knn_bayes_bank.csv\")\n",
    "\n",
    "xgb_bayes_cancer = pd.read_csv(\"xgb_bayes_cancer.csv\")\n",
    "xgb_bayes_credit = pd.read_csv(\"xgb_bayes_credit.csv\")\n",
    "xgb_bayes_blood = pd.read_csv(\"xgb_bayes_blood.csv\")\n",
    "xgb_bayes_bank = pd.read_csv(\"xgb_bayes_bank.csv\")\n",
    "\n",
    "log_grid_cancer = pd.read_csv(\"log_grid_cancer.csv\")\n",
    "log_grid_credit = pd.read_csv(\"log_grid_credit.csv\")\n",
    "log_grid_blood = pd.read_csv(\"log_grid_blood.csv\")\n",
    "log_grid_bank = pd.read_csv(\"log_grid_bank.csv\")\n",
    "\n",
    "knn_grid_cancer = pd.read_csv(\"knn_grid_cancer.csv\")\n",
    "knn_grid_credit = pd.read_csv(\"knn_grid_credit.csv\")\n",
    "knn_grid_blood = pd.read_csv(\"knn_grid_blood.csv\")\n",
    "knn_grid_bank = pd.read_csv(\"knn_grid_bank.csv\")\n",
    "\n",
    "xgb_grid_cancer = pd.read_csv(\"xgb_grid_cancer.csv\")\n",
    "xgb_grid_credit = pd.read_csv(\"xgb_grid_credit.csv\")\n",
    "xgb_grid_blood = pd.read_csv(\"xgb_grid_blood.csv\")\n",
    "xgb_grid_bank = pd.read_csv(\"xgb_grid_bank.csv\")"
   ]
  },
  {
   "cell_type": "markdown",
   "metadata": {},
   "source": [
    "### Test Manna-Whitneya"
   ]
  },
  {
   "cell_type": "code",
   "execution_count": 5,
   "metadata": {},
   "outputs": [],
   "source": [
    "alpha = 0.05"
   ]
  },
  {
   "cell_type": "markdown",
   "metadata": {},
   "source": [
    "#### Regresja logistyczna"
   ]
  },
  {
   "cell_type": "code",
   "execution_count": 6,
   "metadata": {},
   "outputs": [
    {
     "name": "stdout",
     "output_type": "stream",
     "text": [
      "Wartość p-value wynosi 1.082e-12.\n",
      "Wartość p_value jest mniejsza niż 0.05, czyli średnie z obu próbek są statystycznie różne.\n"
     ]
    }
   ],
   "source": [
    "# Zbiór cancer\n",
    "\n",
    "log_random_score_cancer = pd.DataFrame(log_random_cancer)['scores'].tolist()\n",
    "log_bayes_score_cancer = pd.DataFrame(log_bayes_cancer)['scores'].tolist()\n",
    "\n",
    "stat_log_cancer, p_val_log_cancer = mannwhitneyu(log_random_score_cancer, log_bayes_score_cancer)\n",
    "\n",
    "print(f\"Wartość p-value wynosi {f'{p_val_log_cancer:.3e}'}.\")\n",
    "\n",
    "if p_val_log_cancer < alpha:\n",
    "    print(f\"Wartość p_value jest mniejsza niż 0.05, czyli średnie z obu próbek są statystycznie różne.\")\n",
    "else:\n",
    "    print(f\"Wartość p_value jest większa niż 0.05, czyli nie ma podstaw do odrzucenia hipotezy, że średnie są takie same.\")"
   ]
  },
  {
   "cell_type": "code",
   "execution_count": 7,
   "metadata": {},
   "outputs": [
    {
     "name": "stdout",
     "output_type": "stream",
     "text": [
      "Wartość p-value wynosi 1.672e-17.\n",
      "Wartość p_value jest mniejsza niż 0.05, czyli średnie z obu próbek są statystycznie różne.\n"
     ]
    }
   ],
   "source": [
    "# Zbiór credit\n",
    "log_random_score_credit = pd.DataFrame(log_random_credit)['scores'].tolist()\n",
    "log_bayes_score_credit = pd.DataFrame(log_bayes_credit)['scores'].tolist()\n",
    "\n",
    "stat_log_credit, p_val_log_credit = mannwhitneyu(log_random_score_credit, log_bayes_score_credit)\n",
    "\n",
    "print(f\"Wartość p-value wynosi {f'{p_val_log_credit:.3e}'}.\")\n",
    " \n",
    "if p_val_log_credit < alpha:\n",
    "    print(f\"Wartość p_value jest mniejsza niż 0.05, czyli średnie z obu próbek są statystycznie różne.\")\n",
    "else:\n",
    "    print(f\"Wartość p_value jest większa niż 0.05, czyli nie ma podstaw do odrzucenia hipotezy, że średnie są takie same.\")"
   ]
  },
  {
   "cell_type": "code",
   "execution_count": 8,
   "metadata": {},
   "outputs": [
    {
     "name": "stdout",
     "output_type": "stream",
     "text": [
      "Wartość p-value wynosi 8.124e-17.\n",
      "Wartość p_value jest mniejsza niż 0.05, czyli średnie z obu próbek są statystycznie różne.\n"
     ]
    }
   ],
   "source": [
    "# Zbiór blood\n",
    "log_random_score_blood = pd.DataFrame(log_random_blood)['scores'].tolist()\n",
    "log_bayes_score_blood = pd.DataFrame(log_bayes_blood)['scores'].tolist()\n",
    "\n",
    "stat_log_blood, p_val_log_blood = mannwhitneyu(log_random_score_blood, log_bayes_score_blood)\n",
    "\n",
    "print(f\"Wartość p-value wynosi {f'{p_val_log_blood:.3e}'}.\")\n",
    " \n",
    "if p_val_log_blood < alpha:\n",
    "    print(f\"Wartość p_value jest mniejsza niż 0.05, czyli średnie z obu próbek są statystycznie różne.\")\n",
    "else:\n",
    "    print(f\"Wartość p_value jest większa niż 0.05, czyli nie ma podstaw do odrzucenia hipotezy, że średnie są takie same.\")"
   ]
  },
  {
   "cell_type": "code",
   "execution_count": 9,
   "metadata": {},
   "outputs": [
    {
     "name": "stdout",
     "output_type": "stream",
     "text": [
      "Wartość p-value wynosi 1.309e-11.\n",
      "Wartość p_value jest mniejsza niż 0.05, czyli średnie z obu próbek są statystycznie różne.\n"
     ]
    }
   ],
   "source": [
    "# Zbiór bank\n",
    "log_random_score_bank = pd.DataFrame(log_random_bank)['scores'].tolist()\n",
    "log_bayes_score_bank = pd.DataFrame(log_bayes_bank)['scores'].tolist()\n",
    "\n",
    "stat_log_bank, p_val_log_bank = mannwhitneyu(log_random_score_bank, log_bayes_score_bank)\n",
    "\n",
    "print(f\"Wartość p-value wynosi {f'{p_val_log_bank:.3e}'}.\")\n",
    " \n",
    "if p_val_log_bank < alpha:\n",
    "    print(f\"Wartość p_value jest mniejsza niż 0.05, czyli średnie z obu próbek są statystycznie różne.\")\n",
    "else:\n",
    "    print(f\"Wartość p_value jest większa niż 0.05, czyli nie ma podstaw do odrzucenia hipotezy, że średnie są takie same.\")"
   ]
  },
  {
   "cell_type": "markdown",
   "metadata": {},
   "source": [
    "#### KNN"
   ]
  },
  {
   "cell_type": "code",
   "execution_count": 10,
   "metadata": {},
   "outputs": [
    {
     "name": "stdout",
     "output_type": "stream",
     "text": [
      "Wartość p-value wynosi 3.883e-18.\n",
      "Wartość p_value jest mniejsza niż 0.05, czyli średnie z obu próbek są statystycznie różne.\n"
     ]
    }
   ],
   "source": [
    "# Zbiór cancer\n",
    "knn_random_score_cancer = pd.DataFrame(knn_random_cancer)['scores'].tolist()\n",
    "knn_bayes_score_cancer = pd.DataFrame(knn_bayes_cancer)['scores'].tolist()\n",
    "\n",
    "stat_knn_cancer, p_val_knn_cancer = mannwhitneyu(knn_random_score_cancer, knn_bayes_score_cancer)\n",
    "\n",
    "print(f\"Wartość p-value wynosi {f'{p_val_knn_cancer:.3e}'}.\")\n",
    " \n",
    "if p_val_knn_cancer < alpha:\n",
    "    print(f\"Wartość p_value jest mniejsza niż 0.05, czyli średnie z obu próbek są statystycznie różne.\")\n",
    "else:\n",
    "    print(f\"Wartość p_value jest większa niż 0.05, czyli nie ma podstaw do odrzucenia hipotezy, że średnie są takie same.\")"
   ]
  },
  {
   "cell_type": "code",
   "execution_count": 11,
   "metadata": {},
   "outputs": [
    {
     "name": "stdout",
     "output_type": "stream",
     "text": [
      "Wartość p-value wynosi 4.544e-18.\n",
      "Wartość p_value jest mniejsza niż 0.05, czyli średnie z obu próbek są statystycznie różne.\n"
     ]
    }
   ],
   "source": [
    "# Zbiór credit\n",
    "knn_random_score_credit = pd.DataFrame(knn_random_credit)['scores'].tolist()\n",
    "knn_bayes_score_credit = pd.DataFrame(knn_bayes_credit)['scores'].tolist()\n",
    "\n",
    "stat_knn_credit, p_val_knn_credit = mannwhitneyu(knn_random_score_credit, knn_bayes_score_credit)\n",
    "\n",
    "print(f\"Wartość p-value wynosi {f'{p_val_knn_credit:.3e}'}.\")\n",
    " \n",
    "if p_val_knn_credit < alpha:\n",
    "    print(f\"Wartość p_value jest mniejsza niż 0.05, czyli średnie z obu próbek są statystycznie różne.\")\n",
    "else:\n",
    "    print(f\"Wartość p_value jest większa niż 0.05, czyli nie ma podstaw do odrzucenia hipotezy, że średnie są takie same.\")"
   ]
  },
  {
   "cell_type": "code",
   "execution_count": 12,
   "metadata": {},
   "outputs": [
    {
     "name": "stdout",
     "output_type": "stream",
     "text": [
      "Wartość p-value wynosi 6.207e-18.\n",
      "Wartość p_value jest mniejsza niż 0.05, czyli średnie z obu próbek są statystycznie różne.\n"
     ]
    }
   ],
   "source": [
    "# Zbiór blood\n",
    "knn_random_score_blood = pd.DataFrame(knn_random_blood)['scores'].tolist()\n",
    "knn_bayes_score_blood = pd.DataFrame(knn_bayes_blood)['scores'].tolist()\n",
    "\n",
    "stat_knn_blood, p_val_knn_blood = mannwhitneyu(knn_random_score_blood, knn_bayes_score_blood)\n",
    "\n",
    "print(f\"Wartość p-value wynosi {f'{p_val_knn_blood:.3e}'}.\")\n",
    " \n",
    "if p_val_knn_blood < alpha:\n",
    "    print(f\"Wartość p_value jest mniejsza niż 0.05, czyli średnie z obu próbek są statystycznie różne.\")\n",
    "else:\n",
    "    print(f\"Wartość p_value jest większa niż 0.05, czyli nie ma podstaw do odrzucenia hipotezy, że średnie są takie same.\")"
   ]
  },
  {
   "cell_type": "code",
   "execution_count": 13,
   "metadata": {},
   "outputs": [
    {
     "name": "stdout",
     "output_type": "stream",
     "text": [
      "Wartość p-value wynosi 6.407e-16.\n",
      "Wartość p_value jest mniejsza niż 0.05, czyli średnie z obu próbek są statystycznie różne.\n"
     ]
    }
   ],
   "source": [
    "# Zbiór bank\n",
    "knn_random_score_bank = pd.DataFrame(knn_random_bank)['scores'].tolist()\n",
    "knn_bayes_score_bank = pd.DataFrame(knn_bayes_bank)['scores'].tolist()\n",
    "\n",
    "stat_knn_bank, p_val_knn_bank = mannwhitneyu(knn_random_score_bank, knn_bayes_score_bank)\n",
    "\n",
    "print(f\"Wartość p-value wynosi {f'{p_val_knn_bank:.3e}'}.\")\n",
    " \n",
    "if p_val_knn_bank < alpha:\n",
    "    print(f\"Wartość p_value jest mniejsza niż 0.05, czyli średnie z obu próbek są statystycznie różne.\")\n",
    "else:\n",
    "    print(f\"Wartość p_value jest większa niż 0.05, czyli nie ma podstaw do odrzucenia hipotezy, że średnie są takie same.\")"
   ]
  },
  {
   "cell_type": "markdown",
   "metadata": {},
   "source": [
    "#### XGBoost"
   ]
  },
  {
   "cell_type": "code",
   "execution_count": 14,
   "metadata": {},
   "outputs": [
    {
     "name": "stdout",
     "output_type": "stream",
     "text": [
      "Wartość p-value wynosi 5.601e-18.\n",
      "Wartość p_value jest mniejsza niż 0.05, czyli średnie z obu próbek są statystycznie różne.\n"
     ]
    }
   ],
   "source": [
    "# Zbiór cancer\n",
    "xgb_random_score_cancer = pd.DataFrame(xgb_random_cancer)['scores'].tolist()\n",
    "xgb_bayes_score_cancer = pd.DataFrame(xgb_bayes_cancer)['scores'].tolist()\n",
    "\n",
    "stat_xgb_cancer, p_val_xgb_cancer = mannwhitneyu(xgb_random_score_cancer, xgb_bayes_score_cancer)\n",
    "\n",
    "print(f\"Wartość p-value wynosi {f'{p_val_xgb_cancer:.3e}'}.\")\n",
    " \n",
    "if p_val_xgb_cancer < alpha:\n",
    "    print(f\"Wartość p_value jest mniejsza niż 0.05, czyli średnie z obu próbek są statystycznie różne.\")\n",
    "else:\n",
    "    print(f\"Wartość p_value jest większa niż 0.05, czyli nie ma podstaw do odrzucenia hipotezy, że średnie są takie same.\")"
   ]
  },
  {
   "cell_type": "code",
   "execution_count": 15,
   "metadata": {},
   "outputs": [
    {
     "name": "stdout",
     "output_type": "stream",
     "text": [
      "Wartość p-value wynosi 1.574e-08.\n",
      "Wartość p_value jest mniejsza niż 0.05, czyli średnie z obu próbek są statystycznie różne.\n"
     ]
    }
   ],
   "source": [
    "# Zbiór credit\n",
    "xgb_random_score_credit = pd.DataFrame(xgb_random_credit)['scores'].tolist()\n",
    "xgb_bayes_score_credit = pd.DataFrame(xgb_bayes_credit)['scores'].tolist()\n",
    "\n",
    "stat_xgb_credit, p_val_xgb_credit = mannwhitneyu(xgb_random_score_credit, xgb_bayes_score_credit)\n",
    "\n",
    "print(f\"Wartość p-value wynosi {f'{p_val_xgb_credit:.3e}'}.\")\n",
    " \n",
    "if p_val_xgb_credit < alpha:\n",
    "    print(f\"Wartość p_value jest mniejsza niż 0.05, czyli średnie z obu próbek są statystycznie różne.\")\n",
    "else:\n",
    "    print(f\"Wartość p_value jest większa niż 0.05, czyli nie ma podstaw do odrzucenia hipotezy, że średnie są takie same.\")"
   ]
  },
  {
   "cell_type": "code",
   "execution_count": 16,
   "metadata": {},
   "outputs": [
    {
     "name": "stdout",
     "output_type": "stream",
     "text": [
      "Wartość p-value wynosi 1.872e-09.\n",
      "Wartość p_value jest mniejsza niż 0.05, czyli średnie z obu próbek są statystycznie różne.\n"
     ]
    }
   ],
   "source": [
    "# Zbiór blood\n",
    "xgb_random_score_blood = pd.DataFrame(xgb_random_blood)['scores'].tolist()\n",
    "xgb_bayes_score_blood = pd.DataFrame(xgb_bayes_blood)['scores'].tolist()\n",
    "\n",
    "stat_xgb_blood, p_val_xgb_blood = mannwhitneyu(xgb_random_score_blood, xgb_bayes_score_blood)\n",
    "\n",
    "print(f\"Wartość p-value wynosi {f'{p_val_xgb_blood:.3e}'}.\")\n",
    " \n",
    "if p_val_xgb_blood < alpha:\n",
    "    print(f\"Wartość p_value jest mniejsza niż 0.05, czyli średnie z obu próbek są statystycznie różne.\")\n",
    "else:\n",
    "    print(f\"Wartość p_value jest większa niż 0.05, czyli nie ma podstaw do odrzucenia hipotezy, że średnie są takie same.\")"
   ]
  },
  {
   "cell_type": "code",
   "execution_count": 17,
   "metadata": {},
   "outputs": [
    {
     "name": "stdout",
     "output_type": "stream",
     "text": [
      "Wartość p-value wynosi 8.134e-06.\n",
      "Wartość p_value jest mniejsza niż 0.05, czyli średnie z obu próbek są statystycznie różne.\n"
     ]
    }
   ],
   "source": [
    "# Zbiór bank\n",
    "xgb_random_score_bank = pd.DataFrame(xgb_random_bank)['scores'].tolist()\n",
    "xgb_bayes_score_bank = pd.DataFrame(xgb_bayes_bank)['scores'].tolist()\n",
    "\n",
    "stat_xgb_bank, p_val_xgb_bank = mannwhitneyu(xgb_random_score_bank, xgb_bayes_score_bank)\n",
    "\n",
    "print(f\"Wartość p-value wynosi {f'{p_val_xgb_bank:.3e}'}.\")\n",
    " \n",
    "if p_val_xgb_bank < alpha:\n",
    "    print(f\"Wartość p_value jest mniejsza niż 0.05, czyli średnie z obu próbek są statystycznie różne.\")\n",
    "else:\n",
    "    print(f\"Wartość p_value jest większa niż 0.05, czyli nie ma podstaw do odrzucenia hipotezy, że średnie są takie same.\")"
   ]
  },
  {
   "cell_type": "markdown",
   "metadata": {},
   "source": [
    "### Critical Difference Diagrams"
   ]
  },
  {
   "cell_type": "code",
   "execution_count": 3,
   "metadata": {},
   "outputs": [
    {
     "name": "stderr",
     "output_type": "stream",
     "text": [
      "fatal: destination path 'cd-diagram' already exists and is not an empty directory.\n"
     ]
    }
   ],
   "source": [
    "!git clone https://github.com/hfawaz/cd-diagram.git"
   ]
  },
  {
   "cell_type": "code",
   "execution_count": 4,
   "metadata": {},
   "outputs": [
    {
     "name": "stdout",
     "output_type": "stream",
     "text": [
      "C:\\Users\\XXX\\AutoML_Project1\\cd-diagram\n"
     ]
    }
   ],
   "source": [
    "%cd cd-diagram"
   ]
  },
  {
   "cell_type": "code",
   "execution_count": 5,
   "metadata": {},
   "outputs": [],
   "source": [
    "log_data = pd.DataFrame({\n",
    "    'classifier_name': ['log_random', 'log_random', 'log_random', 'log_random', 'log_bayes', 'log_bayes', 'log_bayes', 'log_bayes', 'log_grid', 'log_grid', 'log_grid', 'log_grid'],\n",
    "    'dataset_name': ['cancer', 'credit', 'blood', 'bank', 'cancer', 'credit', 'blood', 'bank', 'cancer', 'credit', 'blood', 'bank'],\n",
    "    'accuracy': [np.max(log_random_cancer['scores']), np.max(log_random_credit['scores']), np.max(log_random_blood['scores']), np.max(log_random_bank['scores']), np.max(log_bayes_cancer['scores']), np.max(log_bayes_credit['scores']), np.max(log_bayes_blood['scores']), np.max(log_bayes_bank['scores']), np.max(log_grid_cancer['scores']), np.max(log_grid_credit['scores']), np.max(log_grid_blood['scores']), np.max(log_grid_bank['scores'])]\n",
    "})\n",
    "\n",
    "knn_data = pd.DataFrame({\n",
    "    'classifier_name': ['knn_random', 'knn_random', 'knn_random', 'knn_random', 'knn_bayes', 'knn_bayes', 'knn_bayes', 'knn_bayes', 'knn_grid', 'knn_grid', 'knn_grid', 'knn_grid'],\n",
    "    'dataset_name': ['cancer', 'credit', 'blood', 'bank', 'cancer', 'credit', 'blood', 'bank', 'cancer', 'credit', 'blood', 'bank'],\n",
    "    'accuracy': [np.max(knn_random_cancer['scores']), np.max(knn_random_credit['scores']), np.max(knn_random_blood['scores']), np.max(knn_random_bank['scores']), np.max(knn_bayes_cancer['scores']), np.max(knn_bayes_credit['scores']), np.max(knn_bayes_blood['scores']), np.max(knn_bayes_bank['scores']), np.max(knn_grid_cancer['scores']), np.max(knn_grid_credit['scores']), np.max(knn_grid_blood['scores']), np.max(knn_grid_bank['scores'])]\n",
    "})\n",
    "\n",
    "xgb_data = pd.DataFrame({\n",
    "    'classifier_name': ['xgb_random', 'xgb_random', 'xgb_random', 'xgb_random', 'xgb_bayes', 'xgb_bayes', 'xgb_bayes', 'xgb_bayes', 'xgb_grid', 'xgb_grid', 'xgb_grid', 'xgb_grid'],\n",
    "    'dataset_name': ['cancer', 'credit', 'blood', 'bank', 'cancer', 'credit', 'blood', 'bank', 'cancer', 'credit', 'blood', 'bank'],\n",
    "    'accuracy': [np.max(xgb_random_cancer['scores']), np.max(xgb_random_credit['scores']), np.max(xgb_random_blood['scores']), np.max(xgb_random_bank['scores']), np.max(xgb_bayes_cancer['scores']), np.max(xgb_bayes_credit['scores']), np.max(xgb_bayes_blood['scores']), np.max(xgb_bayes_bank['scores']), np.max(xgb_grid_cancer['scores']), np.max(xgb_grid_credit['scores']), np.max(xgb_grid_blood['scores']), np.max(xgb_grid_bank['scores'])]\n",
    "})"
   ]
  },
  {
   "cell_type": "code",
   "execution_count": 6,
   "metadata": {},
   "outputs": [],
   "source": [
    "%run main.py"
   ]
  },
  {
   "cell_type": "code",
   "execution_count": 7,
   "metadata": {},
   "outputs": [
    {
     "name": "stdout",
     "output_type": "stream",
     "text": [
      "['log_random' 'log_bayes' 'log_grid']\n",
      "log_bayes     1.0\n",
      "log_grid      0.0\n",
      "log_random    0.0\n",
      "dtype: float64\n",
      "log_random    2.625\n",
      "log_grid      2.000\n",
      "log_bayes     1.375\n",
      "dtype: float64\n",
      "('log_bayes', 'log_random', 0.09467071984550875, False)\n",
      "('log_bayes', 'log_grid', 0.16151331846754213, False)\n",
      "('log_grid', 'log_random', 0.875, False)\n",
      "Index(['log_random', 'log_grid', 'log_bayes'], dtype='object')\n",
      "[0, 1, 2]\n"
     ]
    }
   ],
   "source": [
    "draw_cd_diagram(log_data, alpha=0.15)"
   ]
  },
  {
   "cell_type": "code",
   "execution_count": 8,
   "metadata": {},
   "outputs": [
    {
     "name": "stdout",
     "output_type": "stream",
     "text": [
      "['knn_random' 'knn_bayes' 'knn_grid']\n",
      "knn_bayes     2.0\n",
      "knn_grid      0.0\n",
      "knn_random    0.0\n",
      "dtype: float64\n",
      "knn_grid      2.375\n",
      "knn_random    2.375\n",
      "knn_bayes     1.250\n",
      "dtype: float64\n",
      "('knn_bayes', 'knn_grid', 0.09467071984550875, False)\n",
      "('knn_bayes', 'knn_random', 0.09467071984550875, False)\n",
      "('knn_grid', 'knn_random', 0.875, False)\n",
      "Index(['knn_grid', 'knn_random', 'knn_bayes'], dtype='object')\n",
      "[0, 1, 2]\n"
     ]
    }
   ],
   "source": [
    "draw_cd_diagram(knn_data, alpha=0.15)"
   ]
  },
  {
   "cell_type": "code",
   "execution_count": 9,
   "metadata": {},
   "outputs": [
    {
     "name": "stdout",
     "output_type": "stream",
     "text": [
      "['xgb_random' 'xgb_bayes' 'xgb_grid']\n",
      "xgb_bayes     2.0\n",
      "xgb_grid      2.0\n",
      "xgb_random    0.0\n",
      "dtype: float64\n",
      "xgb_random    3.0\n",
      "xgb_bayes     1.5\n",
      "xgb_grid      1.5\n",
      "dtype: float64\n",
      "('xgb_bayes', 'xgb_random', 0.125, False)\n",
      "('xgb_grid', 'xgb_random', 0.125, False)\n",
      "('xgb_bayes', 'xgb_grid', 0.625, False)\n",
      "Index(['xgb_random', 'xgb_bayes', 'xgb_grid'], dtype='object')\n",
      "[0, 1, 2]\n"
     ]
    }
   ],
   "source": [
    "draw_cd_diagram(xgb_data, alpha=0.15)"
   ]
  },
  {
   "cell_type": "code",
   "execution_count": null,
   "metadata": {},
   "outputs": [],
   "source": []
  }
 ],
 "metadata": {
  "kernelspec": {
   "display_name": "Python 3 (ipykernel)",
   "language": "python",
   "name": "python3"
  },
  "language_info": {
   "codemirror_mode": {
    "name": "ipython",
    "version": 3
   },
   "file_extension": ".py",
   "mimetype": "text/x-python",
   "name": "python",
   "nbconvert_exporter": "python",
   "pygments_lexer": "ipython3",
   "version": "3.9.13"
  }
 },
 "nbformat": 4,
 "nbformat_minor": 2
}
